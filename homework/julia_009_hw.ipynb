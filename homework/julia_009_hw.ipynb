{
 "cells": [
  {
   "cell_type": "markdown",
   "metadata": {},
   "source": [
    "# 陣列 (Array)\n",
    "\n",
    "## Day 009 作業：比較不同的內建排序演算法\n",
    "\n",
    "除了範例程式示範的 QuickSort 之外，Julia 也內建支援幾種不同的排序演算法：\n",
    "\n",
    "- InsertionSort\n",
    "- PartialQuickSort(k)\n",
    "- MergeSort\n",
    "\n",
    "1. 請閱讀官方文件及範例 [Sorting-Algorithms](https://docs.julialang.org/en/v1/base/sort/#Sorting-Algorithms-1)\n",
    "\n",
    "2. 撰寫程式隨機產生 100000 個 200 到 500 之間的數字來建立陣列，執行不同排序方法，來比較不同排序方法的速度。\n",
    "\n",
    "**[提示]** 排序執行所需時間可以用巨集 `@time` 或 `@elapsed` 來取得。"
   ]
  },
  {
   "cell_type": "code",
   "execution_count": 26,
   "metadata": {},
   "outputs": [
    {
     "data": {
      "text/plain": [
       "100000-element Array{Int64,1}:\n",
       " 251\n",
       " 496\n",
       " 470\n",
       " 357\n",
       " 276\n",
       " 341\n",
       " 202\n",
       " 214\n",
       " 216\n",
       " 226\n",
       " 221\n",
       " 455\n",
       " 387\n",
       "   ⋮\n",
       " 477\n",
       " 303\n",
       " 364\n",
       " 472\n",
       " 483\n",
       " 221\n",
       " 365\n",
       " 321\n",
       " 462\n",
       " 296\n",
       " 306\n",
       " 478"
      ]
     },
     "execution_count": 26,
     "metadata": {},
     "output_type": "execute_result"
    }
   ],
   "source": [
    "# 產生 100000 個 200 到 500 之間的數字的陣列\n",
    "x = rand((200:500), 100000)"
   ]
  },
  {
   "cell_type": "markdown",
   "metadata": {},
   "source": [
    "## Insertion Sort"
   ]
  },
  {
   "cell_type": "code",
   "execution_count": 28,
   "metadata": {},
   "outputs": [
    {
     "name": "stdout",
     "output_type": "stream",
     "text": [
      "  0.063008 seconds (75.91 k allocations: 4.746 MiB)\n"
     ]
    },
    {
     "data": {
      "text/plain": [
       "100000-element Array{Int64,1}:\n",
       " 200\n",
       " 200\n",
       " 200\n",
       " 200\n",
       " 200\n",
       " 200\n",
       " 200\n",
       " 200\n",
       " 200\n",
       " 200\n",
       " 200\n",
       " 200\n",
       " 200\n",
       "   ⋮\n",
       " 500\n",
       " 500\n",
       " 500\n",
       " 500\n",
       " 500\n",
       " 500\n",
       " 500\n",
       " 500\n",
       " 500\n",
       " 500\n",
       " 500\n",
       " 500"
      ]
     },
     "execution_count": 28,
     "metadata": {},
     "output_type": "execute_result"
    }
   ],
   "source": [
    "@time s = sort(x; alg=InsertionSort)"
   ]
  },
  {
   "cell_type": "markdown",
   "metadata": {},
   "source": [
    "## Merge Sort"
   ]
  },
  {
   "cell_type": "code",
   "execution_count": 29,
   "metadata": {},
   "outputs": [
    {
     "name": "stdout",
     "output_type": "stream",
     "text": [
      "  0.002108 seconds (11 allocations: 784.172 KiB)\n"
     ]
    },
    {
     "data": {
      "text/plain": [
       "100000-element Array{Int64,1}:\n",
       " 200\n",
       " 200\n",
       " 200\n",
       " 200\n",
       " 200\n",
       " 200\n",
       " 200\n",
       " 200\n",
       " 200\n",
       " 200\n",
       " 200\n",
       " 200\n",
       " 200\n",
       "   ⋮\n",
       " 500\n",
       " 500\n",
       " 500\n",
       " 500\n",
       " 500\n",
       " 500\n",
       " 500\n",
       " 500\n",
       " 500\n",
       " 500\n",
       " 500\n",
       " 500"
      ]
     },
     "execution_count": 29,
     "metadata": {},
     "output_type": "execute_result"
    }
   ],
   "source": [
    "@time s = sort(x; alg=MergeSort)"
   ]
  },
  {
   "cell_type": "markdown",
   "metadata": {},
   "source": [
    "## Partial Quick Sort"
   ]
  },
  {
   "cell_type": "code",
   "execution_count": 33,
   "metadata": {},
   "outputs": [
    {
     "name": "stdout",
     "output_type": "stream",
     "text": [
      "  0.001012 seconds (15 allocations: 784.234 KiB)\n"
     ]
    },
    {
     "data": {
      "text/plain": [
       "100000-element Array{Int64,1}:\n",
       " 200\n",
       " 200\n",
       " 200\n",
       " 200\n",
       " 200\n",
       " 200\n",
       " 200\n",
       " 200\n",
       " 200\n",
       " 200\n",
       " 200\n",
       " 200\n",
       " 200\n",
       "   ⋮\n",
       " 500\n",
       " 500\n",
       " 500\n",
       " 500\n",
       " 500\n",
       " 500\n",
       " 500\n",
       " 500\n",
       " 500\n",
       " 500\n",
       " 500\n",
       " 500"
      ]
     },
     "execution_count": 33,
     "metadata": {},
     "output_type": "execute_result"
    }
   ],
   "source": [
    "@time s = sort(x; alg=PartialQuickSort(500))"
   ]
  },
  {
   "cell_type": "markdown",
   "metadata": {},
   "source": [
    "## QuickSort"
   ]
  },
  {
   "cell_type": "code",
   "execution_count": 31,
   "metadata": {},
   "outputs": [
    {
     "data": {
      "text/plain": [
       "0.001873199"
      ]
     },
     "execution_count": 31,
     "metadata": {},
     "output_type": "execute_result"
    }
   ],
   "source": [
    "@elapsed sort(x; alg=QuickSort)"
   ]
  },
  {
   "cell_type": "markdown",
   "metadata": {},
   "source": [
    "## 請問哪一種排序方法的效能最好？"
   ]
  },
  {
   "cell_type": "markdown",
   "metadata": {},
   "source": [
    "Partial Quick Sort 排序效能最好"
   ]
  },
  {
   "cell_type": "code",
   "execution_count": null,
   "metadata": {},
   "outputs": [],
   "source": []
  }
 ],
 "metadata": {
  "kernelspec": {
   "display_name": "Julia 1.3.1",
   "language": "julia",
   "name": "julia-1.3"
  },
  "language_info": {
   "file_extension": ".jl",
   "mimetype": "application/julia",
   "name": "julia",
   "version": "1.3.1"
  }
 },
 "nbformat": 4,
 "nbformat_minor": 4
}
