{
 "cells": [
  {
   "cell_type": "markdown",
   "metadata": {},
   "source": [
    "# Julia 機器學習：GLM 線性迴歸\n",
    "\n",
    "## 作業 027：波士頓房價預測資料集\n",
    "\n",
    "請使用 GLM 中的模型，建立一個預測模型來預測波士頓的房價。"
   ]
  },
  {
   "cell_type": "code",
   "execution_count": 4,
   "metadata": {},
   "outputs": [],
   "source": [
    "using GLM, RDatasets, MLDataUtils"
   ]
  },
  {
   "cell_type": "markdown",
   "metadata": {},
   "source": [
    "## 讀取資料"
   ]
  },
  {
   "cell_type": "code",
   "execution_count": 5,
   "metadata": {},
   "outputs": [
    {
     "data": {
      "text/html": [
       "<table class=\"data-frame\"><thead><tr><th></th><th>Crim</th><th>Zn</th><th>Indus</th><th>Chas</th><th>NOx</th><th>Rm</th><th>Age</th><th>Dis</th><th>Rad</th><th>Tax</th></tr><tr><th></th><th>Float64</th><th>Float64</th><th>Float64</th><th>Int64</th><th>Float64</th><th>Float64</th><th>Float64</th><th>Float64</th><th>Int64</th><th>Int64</th></tr></thead><tbody><p>10 rows × 14 columns (omitted printing of 4 columns)</p><tr><th>1</th><td>0.00632</td><td>18.0</td><td>2.31</td><td>0</td><td>0.538</td><td>6.575</td><td>65.2</td><td>4.09</td><td>1</td><td>296</td></tr><tr><th>2</th><td>0.02731</td><td>0.0</td><td>7.07</td><td>0</td><td>0.469</td><td>6.421</td><td>78.9</td><td>4.9671</td><td>2</td><td>242</td></tr><tr><th>3</th><td>0.02729</td><td>0.0</td><td>7.07</td><td>0</td><td>0.469</td><td>7.185</td><td>61.1</td><td>4.9671</td><td>2</td><td>242</td></tr><tr><th>4</th><td>0.03237</td><td>0.0</td><td>2.18</td><td>0</td><td>0.458</td><td>6.998</td><td>45.8</td><td>6.0622</td><td>3</td><td>222</td></tr><tr><th>5</th><td>0.06905</td><td>0.0</td><td>2.18</td><td>0</td><td>0.458</td><td>7.147</td><td>54.2</td><td>6.0622</td><td>3</td><td>222</td></tr><tr><th>6</th><td>0.02985</td><td>0.0</td><td>2.18</td><td>0</td><td>0.458</td><td>6.43</td><td>58.7</td><td>6.0622</td><td>3</td><td>222</td></tr><tr><th>7</th><td>0.08829</td><td>12.5</td><td>7.87</td><td>0</td><td>0.524</td><td>6.012</td><td>66.6</td><td>5.5605</td><td>5</td><td>311</td></tr><tr><th>8</th><td>0.14455</td><td>12.5</td><td>7.87</td><td>0</td><td>0.524</td><td>6.172</td><td>96.1</td><td>5.9505</td><td>5</td><td>311</td></tr><tr><th>9</th><td>0.21124</td><td>12.5</td><td>7.87</td><td>0</td><td>0.524</td><td>5.631</td><td>100.0</td><td>6.0821</td><td>5</td><td>311</td></tr><tr><th>10</th><td>0.17004</td><td>12.5</td><td>7.87</td><td>0</td><td>0.524</td><td>6.004</td><td>85.9</td><td>6.5921</td><td>5</td><td>311</td></tr></tbody></table>"
      ],
      "text/latex": [
       "\\begin{tabular}{r|ccccccccccc}\n",
       "\t& Crim & Zn & Indus & Chas & NOx & Rm & Age & Dis & Rad & Tax & \\\\\n",
       "\t\\hline\n",
       "\t& Float64 & Float64 & Float64 & Int64 & Float64 & Float64 & Float64 & Float64 & Int64 & Int64 & \\\\\n",
       "\t\\hline\n",
       "\t1 & 0.00632 & 18.0 & 2.31 & 0 & 0.538 & 6.575 & 65.2 & 4.09 & 1 & 296 & $\\dots$ \\\\\n",
       "\t2 & 0.02731 & 0.0 & 7.07 & 0 & 0.469 & 6.421 & 78.9 & 4.9671 & 2 & 242 & $\\dots$ \\\\\n",
       "\t3 & 0.02729 & 0.0 & 7.07 & 0 & 0.469 & 7.185 & 61.1 & 4.9671 & 2 & 242 & $\\dots$ \\\\\n",
       "\t4 & 0.03237 & 0.0 & 2.18 & 0 & 0.458 & 6.998 & 45.8 & 6.0622 & 3 & 222 & $\\dots$ \\\\\n",
       "\t5 & 0.06905 & 0.0 & 2.18 & 0 & 0.458 & 7.147 & 54.2 & 6.0622 & 3 & 222 & $\\dots$ \\\\\n",
       "\t6 & 0.02985 & 0.0 & 2.18 & 0 & 0.458 & 6.43 & 58.7 & 6.0622 & 3 & 222 & $\\dots$ \\\\\n",
       "\t7 & 0.08829 & 12.5 & 7.87 & 0 & 0.524 & 6.012 & 66.6 & 5.5605 & 5 & 311 & $\\dots$ \\\\\n",
       "\t8 & 0.14455 & 12.5 & 7.87 & 0 & 0.524 & 6.172 & 96.1 & 5.9505 & 5 & 311 & $\\dots$ \\\\\n",
       "\t9 & 0.21124 & 12.5 & 7.87 & 0 & 0.524 & 5.631 & 100.0 & 6.0821 & 5 & 311 & $\\dots$ \\\\\n",
       "\t10 & 0.17004 & 12.5 & 7.87 & 0 & 0.524 & 6.004 & 85.9 & 6.5921 & 5 & 311 & $\\dots$ \\\\\n",
       "\\end{tabular}\n"
      ],
      "text/plain": [
       "10×14 DataFrame. Omitted printing of 7 columns\n",
       "│ Row │ Crim    │ Zn      │ Indus   │ Chas  │ NOx     │ Rm      │ Age     │\n",
       "│     │ \u001b[90mFloat64\u001b[39m │ \u001b[90mFloat64\u001b[39m │ \u001b[90mFloat64\u001b[39m │ \u001b[90mInt64\u001b[39m │ \u001b[90mFloat64\u001b[39m │ \u001b[90mFloat64\u001b[39m │ \u001b[90mFloat64\u001b[39m │\n",
       "├─────┼─────────┼─────────┼─────────┼───────┼─────────┼─────────┼─────────┤\n",
       "│ 1   │ 0.00632 │ 18.0    │ 2.31    │ 0     │ 0.538   │ 6.575   │ 65.2    │\n",
       "│ 2   │ 0.02731 │ 0.0     │ 7.07    │ 0     │ 0.469   │ 6.421   │ 78.9    │\n",
       "│ 3   │ 0.02729 │ 0.0     │ 7.07    │ 0     │ 0.469   │ 7.185   │ 61.1    │\n",
       "│ 4   │ 0.03237 │ 0.0     │ 2.18    │ 0     │ 0.458   │ 6.998   │ 45.8    │\n",
       "│ 5   │ 0.06905 │ 0.0     │ 2.18    │ 0     │ 0.458   │ 7.147   │ 54.2    │\n",
       "│ 6   │ 0.02985 │ 0.0     │ 2.18    │ 0     │ 0.458   │ 6.43    │ 58.7    │\n",
       "│ 7   │ 0.08829 │ 12.5    │ 7.87    │ 0     │ 0.524   │ 6.012   │ 66.6    │\n",
       "│ 8   │ 0.14455 │ 12.5    │ 7.87    │ 0     │ 0.524   │ 6.172   │ 96.1    │\n",
       "│ 9   │ 0.21124 │ 12.5    │ 7.87    │ 0     │ 0.524   │ 5.631   │ 100.0   │\n",
       "│ 10  │ 0.17004 │ 12.5    │ 7.87    │ 0     │ 0.524   │ 6.004   │ 85.9    │"
      ]
     },
     "execution_count": 5,
     "metadata": {},
     "output_type": "execute_result"
    }
   ],
   "source": [
    "boston = dataset(\"MASS\", \"Boston\")\n",
    "first(boston, 10)"
   ]
  },
  {
   "cell_type": "code",
   "execution_count": 6,
   "metadata": {},
   "outputs": [
    {
     "data": {
      "text/html": [
       "<table class=\"data-frame\"><thead><tr><th></th><th>variable</th><th>mean</th><th>min</th><th>median</th><th>max</th><th>nunique</th><th>nmissing</th><th>eltype</th></tr><tr><th></th><th>Symbol</th><th>Float64</th><th>Real</th><th>Float64</th><th>Real</th><th>Nothing</th><th>Nothing</th><th>DataType</th></tr></thead><tbody><p>14 rows × 8 columns</p><tr><th>1</th><td>Crim</td><td>3.61352</td><td>0.00632</td><td>0.25651</td><td>88.9762</td><td></td><td></td><td>Float64</td></tr><tr><th>2</th><td>Zn</td><td>11.3636</td><td>0.0</td><td>0.0</td><td>100.0</td><td></td><td></td><td>Float64</td></tr><tr><th>3</th><td>Indus</td><td>11.1368</td><td>0.46</td><td>9.69</td><td>27.74</td><td></td><td></td><td>Float64</td></tr><tr><th>4</th><td>Chas</td><td>0.06917</td><td>0</td><td>0.0</td><td>1</td><td></td><td></td><td>Int64</td></tr><tr><th>5</th><td>NOx</td><td>0.554695</td><td>0.385</td><td>0.538</td><td>0.871</td><td></td><td></td><td>Float64</td></tr><tr><th>6</th><td>Rm</td><td>6.28463</td><td>3.561</td><td>6.2085</td><td>8.78</td><td></td><td></td><td>Float64</td></tr><tr><th>7</th><td>Age</td><td>68.5749</td><td>2.9</td><td>77.5</td><td>100.0</td><td></td><td></td><td>Float64</td></tr><tr><th>8</th><td>Dis</td><td>3.79504</td><td>1.1296</td><td>3.20745</td><td>12.1265</td><td></td><td></td><td>Float64</td></tr><tr><th>9</th><td>Rad</td><td>9.54941</td><td>1</td><td>5.0</td><td>24</td><td></td><td></td><td>Int64</td></tr><tr><th>10</th><td>Tax</td><td>408.237</td><td>187</td><td>330.0</td><td>711</td><td></td><td></td><td>Int64</td></tr><tr><th>11</th><td>PTRatio</td><td>18.4555</td><td>12.6</td><td>19.05</td><td>22.0</td><td></td><td></td><td>Float64</td></tr><tr><th>12</th><td>Black</td><td>356.674</td><td>0.32</td><td>391.44</td><td>396.9</td><td></td><td></td><td>Float64</td></tr><tr><th>13</th><td>LStat</td><td>12.6531</td><td>1.73</td><td>11.36</td><td>37.97</td><td></td><td></td><td>Float64</td></tr><tr><th>14</th><td>MedV</td><td>22.5328</td><td>5.0</td><td>21.2</td><td>50.0</td><td></td><td></td><td>Float64</td></tr></tbody></table>"
      ],
      "text/latex": [
       "\\begin{tabular}{r|cccccccc}\n",
       "\t& variable & mean & min & median & max & nunique & nmissing & eltype\\\\\n",
       "\t\\hline\n",
       "\t& Symbol & Float64 & Real & Float64 & Real & Nothing & Nothing & DataType\\\\\n",
       "\t\\hline\n",
       "\t1 & Crim & 3.61352 & 0.00632 & 0.25651 & 88.9762 &  &  & Float64 \\\\\n",
       "\t2 & Zn & 11.3636 & 0.0 & 0.0 & 100.0 &  &  & Float64 \\\\\n",
       "\t3 & Indus & 11.1368 & 0.46 & 9.69 & 27.74 &  &  & Float64 \\\\\n",
       "\t4 & Chas & 0.06917 & 0 & 0.0 & 1 &  &  & Int64 \\\\\n",
       "\t5 & NOx & 0.554695 & 0.385 & 0.538 & 0.871 &  &  & Float64 \\\\\n",
       "\t6 & Rm & 6.28463 & 3.561 & 6.2085 & 8.78 &  &  & Float64 \\\\\n",
       "\t7 & Age & 68.5749 & 2.9 & 77.5 & 100.0 &  &  & Float64 \\\\\n",
       "\t8 & Dis & 3.79504 & 1.1296 & 3.20745 & 12.1265 &  &  & Float64 \\\\\n",
       "\t9 & Rad & 9.54941 & 1 & 5.0 & 24 &  &  & Int64 \\\\\n",
       "\t10 & Tax & 408.237 & 187 & 330.0 & 711 &  &  & Int64 \\\\\n",
       "\t11 & PTRatio & 18.4555 & 12.6 & 19.05 & 22.0 &  &  & Float64 \\\\\n",
       "\t12 & Black & 356.674 & 0.32 & 391.44 & 396.9 &  &  & Float64 \\\\\n",
       "\t13 & LStat & 12.6531 & 1.73 & 11.36 & 37.97 &  &  & Float64 \\\\\n",
       "\t14 & MedV & 22.5328 & 5.0 & 21.2 & 50.0 &  &  & Float64 \\\\\n",
       "\\end{tabular}\n"
      ],
      "text/plain": [
       "14×8 DataFrame. Omitted printing of 1 columns\n",
       "│ Row │ variable │ mean     │ min     │ median  │ max     │ nunique │ nmissing │\n",
       "│     │ \u001b[90mSymbol\u001b[39m   │ \u001b[90mFloat64\u001b[39m  │ \u001b[90mReal\u001b[39m    │ \u001b[90mFloat64\u001b[39m │ \u001b[90mReal\u001b[39m    │ \u001b[90mNothing\u001b[39m │ \u001b[90mNothing\u001b[39m  │\n",
       "├─────┼──────────┼──────────┼─────────┼─────────┼─────────┼─────────┼──────────┤\n",
       "│ 1   │ Crim     │ 3.61352  │ 0.00632 │ 0.25651 │ 88.9762 │         │          │\n",
       "│ 2   │ Zn       │ 11.3636  │ 0.0     │ 0.0     │ 100.0   │         │          │\n",
       "│ 3   │ Indus    │ 11.1368  │ 0.46    │ 9.69    │ 27.74   │         │          │\n",
       "│ 4   │ Chas     │ 0.06917  │ 0       │ 0.0     │ 1       │         │          │\n",
       "│ 5   │ NOx      │ 0.554695 │ 0.385   │ 0.538   │ 0.871   │         │          │\n",
       "│ 6   │ Rm       │ 6.28463  │ 3.561   │ 6.2085  │ 8.78    │         │          │\n",
       "│ 7   │ Age      │ 68.5749  │ 2.9     │ 77.5    │ 100.0   │         │          │\n",
       "│ 8   │ Dis      │ 3.79504  │ 1.1296  │ 3.20745 │ 12.1265 │         │          │\n",
       "│ 9   │ Rad      │ 9.54941  │ 1       │ 5.0     │ 24      │         │          │\n",
       "│ 10  │ Tax      │ 408.237  │ 187     │ 330.0   │ 711     │         │          │\n",
       "│ 11  │ PTRatio  │ 18.4555  │ 12.6    │ 19.05   │ 22.0    │         │          │\n",
       "│ 12  │ Black    │ 356.674  │ 0.32    │ 391.44  │ 396.9   │         │          │\n",
       "│ 13  │ LStat    │ 12.6531  │ 1.73    │ 11.36   │ 37.97   │         │          │\n",
       "│ 14  │ MedV     │ 22.5328  │ 5.0     │ 21.2    │ 50.0    │         │          │"
      ]
     },
     "execution_count": 6,
     "metadata": {},
     "output_type": "execute_result"
    }
   ],
   "source": [
    "describe(boston)"
   ]
  },
  {
   "cell_type": "markdown",
   "metadata": {},
   "source": [
    "###Variables\n",
    "\n",
    "#There are 14 attributes in each case of the dataset. They are:\n",
    "#CRIM - per capita crime rate by town\n",
    "#ZN - proportion of residential land zoned for lots over 25,000 sq.ft.\n",
    "#INDUS - proportion of non-retail business acres per town.\n",
    "#CHAS - Charles River dummy variable (1 if tract bounds river; 0 otherwise)\n",
    "#NOX - nitric oxides concentration (parts per 10 million)\n",
    "#RM - average number of rooms per dwelling\n",
    "#AGE - proportion of owner-occupied units built prior to 1940\n",
    "#DIS - weighted distances to five Boston employment centres\n",
    "#RAD - index of accessibility to radial highways\n",
    "#TAX - full-value property-tax rate per 10,000\n",
    "#PTRATIO - pupil-teacher ratio by town\n",
    "#B - 1000(Bk - 0.63)^2 where Bk is the proportion of blacks by town\n",
    "#LSTAT - % lower status of the population\n",
    "#MEDV - Median value of owner-occupied homes in 1000's"
   ]
  },
  {
   "cell_type": "code",
   "execution_count": 10,
   "metadata": {},
   "outputs": [],
   "source": [
    "indecies = MLDataUtils.shuffleobs(collect(1:nrow(boston)))\n",
    "train_ind, test_ind = MLDataUtils.splitobs(indecies, at = 0.8);"
   ]
  },
  {
   "cell_type": "code",
   "execution_count": 12,
   "metadata": {},
   "outputs": [
    {
     "data": {
      "text/html": [
       "<table class=\"data-frame\"><thead><tr><th></th><th>Crim</th><th>Zn</th><th>Indus</th><th>Chas</th><th>NOx</th><th>Rm</th><th>Age</th><th>Dis</th><th>Rad</th><th>Tax</th></tr><tr><th></th><th>Float64</th><th>Float64</th><th>Float64</th><th>Int64</th><th>Float64</th><th>Float64</th><th>Float64</th><th>Float64</th><th>Int64</th><th>Int64</th></tr></thead><tbody><p>101 rows × 14 columns (omitted printing of 4 columns)</p><tr><th>1</th><td>10.6718</td><td>0.0</td><td>18.1</td><td>0</td><td>0.74</td><td>6.459</td><td>94.8</td><td>1.9879</td><td>24</td><td>666</td></tr><tr><th>2</th><td>0.02543</td><td>55.0</td><td>3.78</td><td>0</td><td>0.484</td><td>6.696</td><td>56.4</td><td>5.7321</td><td>5</td><td>370</td></tr><tr><th>3</th><td>0.07896</td><td>0.0</td><td>12.83</td><td>0</td><td>0.437</td><td>6.273</td><td>6.0</td><td>4.2515</td><td>5</td><td>398</td></tr><tr><th>4</th><td>0.04011</td><td>80.0</td><td>1.52</td><td>0</td><td>0.404</td><td>7.287</td><td>34.1</td><td>7.309</td><td>2</td><td>329</td></tr><tr><th>5</th><td>0.11504</td><td>0.0</td><td>2.89</td><td>0</td><td>0.445</td><td>6.163</td><td>69.6</td><td>3.4952</td><td>2</td><td>276</td></tr><tr><th>6</th><td>0.09744</td><td>0.0</td><td>5.96</td><td>0</td><td>0.499</td><td>5.841</td><td>61.4</td><td>3.3779</td><td>5</td><td>279</td></tr><tr><th>7</th><td>0.21719</td><td>0.0</td><td>10.59</td><td>1</td><td>0.489</td><td>5.807</td><td>53.8</td><td>3.6526</td><td>4</td><td>277</td></tr><tr><th>8</th><td>0.03705</td><td>20.0</td><td>3.33</td><td>0</td><td>0.4429</td><td>6.968</td><td>37.2</td><td>5.2447</td><td>5</td><td>216</td></tr><tr><th>9</th><td>0.10659</td><td>80.0</td><td>1.91</td><td>0</td><td>0.413</td><td>5.936</td><td>19.5</td><td>10.5857</td><td>4</td><td>334</td></tr><tr><th>10</th><td>0.7857</td><td>20.0</td><td>3.97</td><td>0</td><td>0.647</td><td>7.014</td><td>84.6</td><td>2.1329</td><td>5</td><td>264</td></tr><tr><th>11</th><td>0.08244</td><td>30.0</td><td>4.93</td><td>0</td><td>0.428</td><td>6.481</td><td>18.5</td><td>6.1899</td><td>6</td><td>300</td></tr><tr><th>12</th><td>0.16211</td><td>20.0</td><td>6.96</td><td>0</td><td>0.464</td><td>6.24</td><td>16.3</td><td>4.429</td><td>3</td><td>223</td></tr><tr><th>13</th><td>0.25915</td><td>0.0</td><td>21.89</td><td>0</td><td>0.624</td><td>5.693</td><td>96.0</td><td>1.7883</td><td>4</td><td>437</td></tr><tr><th>14</th><td>23.6482</td><td>0.0</td><td>18.1</td><td>0</td><td>0.671</td><td>6.38</td><td>96.2</td><td>1.3861</td><td>24</td><td>666</td></tr><tr><th>15</th><td>17.8667</td><td>0.0</td><td>18.1</td><td>0</td><td>0.671</td><td>6.223</td><td>100.0</td><td>1.3861</td><td>24</td><td>666</td></tr><tr><th>16</th><td>1.23247</td><td>0.0</td><td>8.14</td><td>0</td><td>0.538</td><td>6.142</td><td>91.7</td><td>3.9769</td><td>4</td><td>307</td></tr><tr><th>17</th><td>1.13081</td><td>0.0</td><td>8.14</td><td>0</td><td>0.538</td><td>5.713</td><td>94.1</td><td>4.233</td><td>4</td><td>307</td></tr><tr><th>18</th><td>2.81838</td><td>0.0</td><td>18.1</td><td>0</td><td>0.532</td><td>5.762</td><td>40.3</td><td>4.0983</td><td>24</td><td>666</td></tr><tr><th>19</th><td>0.5405</td><td>20.0</td><td>3.97</td><td>0</td><td>0.575</td><td>7.47</td><td>52.6</td><td>2.872</td><td>5</td><td>264</td></tr><tr><th>20</th><td>0.10328</td><td>25.0</td><td>5.13</td><td>0</td><td>0.453</td><td>5.927</td><td>47.2</td><td>6.932</td><td>8</td><td>284</td></tr><tr><th>21</th><td>0.11329</td><td>30.0</td><td>4.93</td><td>0</td><td>0.428</td><td>6.897</td><td>54.3</td><td>6.3361</td><td>6</td><td>300</td></tr><tr><th>22</th><td>0.12329</td><td>0.0</td><td>10.01</td><td>0</td><td>0.547</td><td>5.913</td><td>92.9</td><td>2.3534</td><td>6</td><td>432</td></tr><tr><th>23</th><td>9.51363</td><td>0.0</td><td>18.1</td><td>0</td><td>0.713</td><td>6.728</td><td>94.1</td><td>2.4961</td><td>24</td><td>666</td></tr><tr><th>24</th><td>0.01096</td><td>55.0</td><td>2.25</td><td>0</td><td>0.389</td><td>6.453</td><td>31.9</td><td>7.3073</td><td>1</td><td>300</td></tr><tr><th>25</th><td>0.04819</td><td>80.0</td><td>3.64</td><td>0</td><td>0.392</td><td>6.108</td><td>32.0</td><td>9.2203</td><td>1</td><td>315</td></tr><tr><th>26</th><td>2.44953</td><td>0.0</td><td>19.58</td><td>0</td><td>0.605</td><td>6.402</td><td>95.2</td><td>2.2625</td><td>5</td><td>403</td></tr><tr><th>27</th><td>0.04462</td><td>25.0</td><td>4.86</td><td>0</td><td>0.426</td><td>6.619</td><td>70.4</td><td>5.4007</td><td>4</td><td>281</td></tr><tr><th>28</th><td>0.05646</td><td>0.0</td><td>12.83</td><td>0</td><td>0.437</td><td>6.232</td><td>53.7</td><td>5.0141</td><td>5</td><td>398</td></tr><tr><th>29</th><td>0.0456</td><td>0.0</td><td>13.89</td><td>1</td><td>0.55</td><td>5.888</td><td>56.0</td><td>3.1121</td><td>5</td><td>276</td></tr><tr><th>30</th><td>0.07503</td><td>33.0</td><td>2.18</td><td>0</td><td>0.472</td><td>7.42</td><td>71.9</td><td>3.0992</td><td>7</td><td>222</td></tr><tr><th>&vellip;</th><td>&vellip;</td><td>&vellip;</td><td>&vellip;</td><td>&vellip;</td><td>&vellip;</td><td>&vellip;</td><td>&vellip;</td><td>&vellip;</td><td>&vellip;</td><td>&vellip;</td></tr></tbody></table>"
      ],
      "text/latex": [
       "\\begin{tabular}{r|ccccccccccc}\n",
       "\t& Crim & Zn & Indus & Chas & NOx & Rm & Age & Dis & Rad & Tax & \\\\\n",
       "\t\\hline\n",
       "\t& Float64 & Float64 & Float64 & Int64 & Float64 & Float64 & Float64 & Float64 & Int64 & Int64 & \\\\\n",
       "\t\\hline\n",
       "\t1 & 10.6718 & 0.0 & 18.1 & 0 & 0.74 & 6.459 & 94.8 & 1.9879 & 24 & 666 & $\\dots$ \\\\\n",
       "\t2 & 0.02543 & 55.0 & 3.78 & 0 & 0.484 & 6.696 & 56.4 & 5.7321 & 5 & 370 & $\\dots$ \\\\\n",
       "\t3 & 0.07896 & 0.0 & 12.83 & 0 & 0.437 & 6.273 & 6.0 & 4.2515 & 5 & 398 & $\\dots$ \\\\\n",
       "\t4 & 0.04011 & 80.0 & 1.52 & 0 & 0.404 & 7.287 & 34.1 & 7.309 & 2 & 329 & $\\dots$ \\\\\n",
       "\t5 & 0.11504 & 0.0 & 2.89 & 0 & 0.445 & 6.163 & 69.6 & 3.4952 & 2 & 276 & $\\dots$ \\\\\n",
       "\t6 & 0.09744 & 0.0 & 5.96 & 0 & 0.499 & 5.841 & 61.4 & 3.3779 & 5 & 279 & $\\dots$ \\\\\n",
       "\t7 & 0.21719 & 0.0 & 10.59 & 1 & 0.489 & 5.807 & 53.8 & 3.6526 & 4 & 277 & $\\dots$ \\\\\n",
       "\t8 & 0.03705 & 20.0 & 3.33 & 0 & 0.4429 & 6.968 & 37.2 & 5.2447 & 5 & 216 & $\\dots$ \\\\\n",
       "\t9 & 0.10659 & 80.0 & 1.91 & 0 & 0.413 & 5.936 & 19.5 & 10.5857 & 4 & 334 & $\\dots$ \\\\\n",
       "\t10 & 0.7857 & 20.0 & 3.97 & 0 & 0.647 & 7.014 & 84.6 & 2.1329 & 5 & 264 & $\\dots$ \\\\\n",
       "\t11 & 0.08244 & 30.0 & 4.93 & 0 & 0.428 & 6.481 & 18.5 & 6.1899 & 6 & 300 & $\\dots$ \\\\\n",
       "\t12 & 0.16211 & 20.0 & 6.96 & 0 & 0.464 & 6.24 & 16.3 & 4.429 & 3 & 223 & $\\dots$ \\\\\n",
       "\t13 & 0.25915 & 0.0 & 21.89 & 0 & 0.624 & 5.693 & 96.0 & 1.7883 & 4 & 437 & $\\dots$ \\\\\n",
       "\t14 & 23.6482 & 0.0 & 18.1 & 0 & 0.671 & 6.38 & 96.2 & 1.3861 & 24 & 666 & $\\dots$ \\\\\n",
       "\t15 & 17.8667 & 0.0 & 18.1 & 0 & 0.671 & 6.223 & 100.0 & 1.3861 & 24 & 666 & $\\dots$ \\\\\n",
       "\t16 & 1.23247 & 0.0 & 8.14 & 0 & 0.538 & 6.142 & 91.7 & 3.9769 & 4 & 307 & $\\dots$ \\\\\n",
       "\t17 & 1.13081 & 0.0 & 8.14 & 0 & 0.538 & 5.713 & 94.1 & 4.233 & 4 & 307 & $\\dots$ \\\\\n",
       "\t18 & 2.81838 & 0.0 & 18.1 & 0 & 0.532 & 5.762 & 40.3 & 4.0983 & 24 & 666 & $\\dots$ \\\\\n",
       "\t19 & 0.5405 & 20.0 & 3.97 & 0 & 0.575 & 7.47 & 52.6 & 2.872 & 5 & 264 & $\\dots$ \\\\\n",
       "\t20 & 0.10328 & 25.0 & 5.13 & 0 & 0.453 & 5.927 & 47.2 & 6.932 & 8 & 284 & $\\dots$ \\\\\n",
       "\t21 & 0.11329 & 30.0 & 4.93 & 0 & 0.428 & 6.897 & 54.3 & 6.3361 & 6 & 300 & $\\dots$ \\\\\n",
       "\t22 & 0.12329 & 0.0 & 10.01 & 0 & 0.547 & 5.913 & 92.9 & 2.3534 & 6 & 432 & $\\dots$ \\\\\n",
       "\t23 & 9.51363 & 0.0 & 18.1 & 0 & 0.713 & 6.728 & 94.1 & 2.4961 & 24 & 666 & $\\dots$ \\\\\n",
       "\t24 & 0.01096 & 55.0 & 2.25 & 0 & 0.389 & 6.453 & 31.9 & 7.3073 & 1 & 300 & $\\dots$ \\\\\n",
       "\t25 & 0.04819 & 80.0 & 3.64 & 0 & 0.392 & 6.108 & 32.0 & 9.2203 & 1 & 315 & $\\dots$ \\\\\n",
       "\t26 & 2.44953 & 0.0 & 19.58 & 0 & 0.605 & 6.402 & 95.2 & 2.2625 & 5 & 403 & $\\dots$ \\\\\n",
       "\t27 & 0.04462 & 25.0 & 4.86 & 0 & 0.426 & 6.619 & 70.4 & 5.4007 & 4 & 281 & $\\dots$ \\\\\n",
       "\t28 & 0.05646 & 0.0 & 12.83 & 0 & 0.437 & 6.232 & 53.7 & 5.0141 & 5 & 398 & $\\dots$ \\\\\n",
       "\t29 & 0.0456 & 0.0 & 13.89 & 1 & 0.55 & 5.888 & 56.0 & 3.1121 & 5 & 276 & $\\dots$ \\\\\n",
       "\t30 & 0.07503 & 33.0 & 2.18 & 0 & 0.472 & 7.42 & 71.9 & 3.0992 & 7 & 222 & $\\dots$ \\\\\n",
       "\t$\\dots$ & $\\dots$ & $\\dots$ & $\\dots$ & $\\dots$ & $\\dots$ & $\\dots$ & $\\dots$ & $\\dots$ & $\\dots$ & $\\dots$ &  \\\\\n",
       "\\end{tabular}\n"
      ],
      "text/plain": [
       "101×14 DataFrame. Omitted printing of 7 columns\n",
       "│ Row │ Crim    │ Zn      │ Indus   │ Chas  │ NOx     │ Rm      │ Age     │\n",
       "│     │ \u001b[90mFloat64\u001b[39m │ \u001b[90mFloat64\u001b[39m │ \u001b[90mFloat64\u001b[39m │ \u001b[90mInt64\u001b[39m │ \u001b[90mFloat64\u001b[39m │ \u001b[90mFloat64\u001b[39m │ \u001b[90mFloat64\u001b[39m │\n",
       "├─────┼─────────┼─────────┼─────────┼───────┼─────────┼─────────┼─────────┤\n",
       "│ 1   │ 10.6718 │ 0.0     │ 18.1    │ 0     │ 0.74    │ 6.459   │ 94.8    │\n",
       "│ 2   │ 0.02543 │ 55.0    │ 3.78    │ 0     │ 0.484   │ 6.696   │ 56.4    │\n",
       "│ 3   │ 0.07896 │ 0.0     │ 12.83   │ 0     │ 0.437   │ 6.273   │ 6.0     │\n",
       "│ 4   │ 0.04011 │ 80.0    │ 1.52    │ 0     │ 0.404   │ 7.287   │ 34.1    │\n",
       "│ 5   │ 0.11504 │ 0.0     │ 2.89    │ 0     │ 0.445   │ 6.163   │ 69.6    │\n",
       "│ 6   │ 0.09744 │ 0.0     │ 5.96    │ 0     │ 0.499   │ 5.841   │ 61.4    │\n",
       "│ 7   │ 0.21719 │ 0.0     │ 10.59   │ 1     │ 0.489   │ 5.807   │ 53.8    │\n",
       "│ 8   │ 0.03705 │ 20.0    │ 3.33    │ 0     │ 0.4429  │ 6.968   │ 37.2    │\n",
       "│ 9   │ 0.10659 │ 80.0    │ 1.91    │ 0     │ 0.413   │ 5.936   │ 19.5    │\n",
       "│ 10  │ 0.7857  │ 20.0    │ 3.97    │ 0     │ 0.647   │ 7.014   │ 84.6    │\n",
       "⋮\n",
       "│ 91  │ 0.13554 │ 12.5    │ 6.07    │ 0     │ 0.409   │ 5.594   │ 36.8    │\n",
       "│ 92  │ 0.03961 │ 0.0     │ 5.19    │ 0     │ 0.515   │ 6.037   │ 34.5    │\n",
       "│ 93  │ 0.10959 │ 0.0     │ 11.93   │ 0     │ 0.573   │ 6.794   │ 89.3    │\n",
       "│ 94  │ 3.32105 │ 0.0     │ 19.58   │ 1     │ 0.871   │ 5.403   │ 100.0   │\n",
       "│ 95  │ 0.08447 │ 0.0     │ 4.05    │ 0     │ 0.51    │ 5.859   │ 68.7    │\n",
       "│ 96  │ 0.09604 │ 40.0    │ 6.41    │ 0     │ 0.447   │ 6.854   │ 42.8    │\n",
       "│ 97  │ 0.18337 │ 0.0     │ 27.74   │ 0     │ 0.609   │ 5.414   │ 98.3    │\n",
       "│ 98  │ 0.02985 │ 0.0     │ 2.18    │ 0     │ 0.458   │ 6.43    │ 58.7    │\n",
       "│ 99  │ 7.75223 │ 0.0     │ 18.1    │ 0     │ 0.713   │ 6.301   │ 83.7    │\n",
       "│ 100 │ 0.08707 │ 0.0     │ 12.83   │ 0     │ 0.437   │ 6.14    │ 45.8    │\n",
       "│ 101 │ 0.0351  │ 95.0    │ 2.68    │ 0     │ 0.4161  │ 7.853   │ 33.2    │"
      ]
     },
     "execution_count": 12,
     "metadata": {},
     "output_type": "execute_result"
    }
   ],
   "source": [
    "train = boston[train_ind, :]\n",
    "test = boston[test_ind, :]"
   ]
  },
  {
   "cell_type": "code",
   "execution_count": 13,
   "metadata": {},
   "outputs": [
    {
     "data": {
      "text/plain": [
       "StatsModels.TableRegressionModel{LinearModel{GLM.LmResp{Array{Float64,1}},GLM.DensePredChol{Float64,LinearAlgebra.Cholesky{Float64,Array{Float64,2}}}},Array{Float64,2}}\n",
       "\n",
       "MedV ~ 1 + Crim + Zn + Chas + NOx + Rm + Dis + Rad + Tax + PTRatio + Black + LStat\n",
       "\n",
       "Coefficients:\n",
       "────────────────────────────────────────────────────────────────────────────────────\n",
       "                 Estimate  Std. Error   t value  Pr(>|t|)     Lower 95%    Upper 95%\n",
       "────────────────────────────────────────────────────────────────────────────────────\n",
       "(Intercept)   32.1145      5.52159      5.81618    <1e-7    21.259       42.9701    \n",
       "Crim          -0.118175    0.0330255   -3.57829    0.0004   -0.183104    -0.0532462 \n",
       "Zn             0.0439132   0.0149243    2.9424     0.0034    0.0145718    0.0732545 \n",
       "Chas           3.90752     0.922451     4.23601    <1e-4     2.09396      5.72107   \n",
       "NOx          -16.9983      3.78047     -4.49633    <1e-5   -24.4307      -9.56578   \n",
       "Rm             4.23576     0.446389     9.48894    <1e-18    3.35815      5.11336   \n",
       "Dis           -1.42562     0.206211    -6.9134     <1e-10   -1.83103     -1.0202    \n",
       "Rad            0.252377    0.0701897    3.59564    0.0004    0.114383     0.390371  \n",
       "Tax           -0.0089516   0.00383124  -2.33647    0.0200   -0.0164839   -0.00141931\n",
       "PTRatio       -0.928444    0.14159     -6.55727    <1e-9    -1.20681     -0.650075  \n",
       "Black          0.00899381  0.00280607   3.20513    0.0015    0.00347702   0.0145106 \n",
       "LStat         -0.505814    0.0514798   -9.82547    <1e-19   -0.607024    -0.404603  \n",
       "────────────────────────────────────────────────────────────────────────────────────"
      ]
     },
     "execution_count": 13,
     "metadata": {},
     "output_type": "execute_result"
    }
   ],
   "source": [
    "ols = GLM.lm(@formula(MedV ~ Crim + Zn + Chas + NOx + Rm + Dis + Rad + Tax + PTRatio + Black + LStat), train)"
   ]
  },
  {
   "cell_type": "code",
   "execution_count": 15,
   "metadata": {},
   "outputs": [
    {
     "data": {
      "text/plain": [
       "101-element Array{Union{Missing, Float64},1}:\n",
       " 12.398018779577939\n",
       " 28.037517080270046\n",
       " 25.646513619931458\n",
       " 36.568876654294016\n",
       " 24.769097963098087\n",
       " 22.108977829185136\n",
       " 23.742762758001696\n",
       " 34.198184694541524\n",
       " 16.805559578070007\n",
       " 31.373124869888784\n",
       " 28.386417238258236\n",
       " 26.9317029976127  \n",
       " 15.287992810239864\n",
       "  ⋮                \n",
       "  9.964748269697154\n",
       " 17.448459155313433\n",
       " 20.41449584534373 \n",
       " 26.30585649050937 \n",
       " 15.83577817482222 \n",
       " 26.261491251775027\n",
       " 33.66732954213812 \n",
       "  9.123940291601862\n",
       " 25.236663200920752\n",
       " 17.380080224964836\n",
       " 23.47484331000123 \n",
       " 42.13790454127581 "
      ]
     },
     "execution_count": 15,
     "metadata": {},
     "output_type": "execute_result"
    }
   ],
   "source": [
    "predict(ols, test)"
   ]
  },
  {
   "cell_type": "code",
   "execution_count": 16,
   "metadata": {},
   "outputs": [
    {
     "data": {
      "text/plain": [
       "0.7544467243489484"
      ]
     },
     "execution_count": 16,
     "metadata": {},
     "output_type": "execute_result"
    }
   ],
   "source": [
    "GLM.r²(ols)"
   ]
  },
  {
   "cell_type": "code",
   "execution_count": 17,
   "metadata": {},
   "outputs": [
    {
     "data": {
      "text/plain": [
       "0.7475737319007002"
      ]
     },
     "execution_count": 17,
     "metadata": {},
     "output_type": "execute_result"
    }
   ],
   "source": [
    "GLM.adjr²(ols)"
   ]
  },
  {
   "cell_type": "code",
   "execution_count": null,
   "metadata": {},
   "outputs": [],
   "source": []
  }
 ],
 "metadata": {
  "kernelspec": {
   "display_name": "Julia 1.3.1",
   "language": "julia",
   "name": "julia-1.3"
  },
  "language_info": {
   "file_extension": ".jl",
   "mimetype": "application/julia",
   "name": "julia",
   "version": "1.3.1"
  }
 },
 "nbformat": 4,
 "nbformat_minor": 4
}
